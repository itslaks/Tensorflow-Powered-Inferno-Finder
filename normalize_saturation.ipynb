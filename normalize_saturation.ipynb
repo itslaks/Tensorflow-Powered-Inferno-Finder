{
 "cells": [
  {
   "cell_type": "code",
   "execution_count": null,
   "id": "96b8c618-ce56-4e94-a4c1-ca1525662030",
   "metadata": {},
   "outputs": [],
   "source": [
    "from PIL import Image\n",
    "import np\n",
    "import tensorflow as tf"
   ]
  }
 ],
 "metadata": {
  "kernelspec": {
   "display_name": "Python 3 (ipykernel)",
   "language": "python",
   "name": "python3"
  },
  "language_info": {
   "codemirror_mode": {
    "name": "ipython",
    "version": 3
   },
   "file_extension": ".py",
   "mimetype": "text/x-python",
   "name": "python",
   "nbconvert_exporter": "python",
   "pygments_lexer": "ipython3",
   "version": "3.9.17"
  }
 },
 "nbformat": 4,
 "nbformat_minor": 5
}
