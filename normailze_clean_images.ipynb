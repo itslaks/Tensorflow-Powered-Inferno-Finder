{
 "cells": [
  {
   "cell_type": "code",
   "execution_count": 1,
   "id": "32387a5a-7eb4-4bb0-891c-2815f6dd71a8",
   "metadata": {},
   "outputs": [
    {
     "name": "stderr",
     "output_type": "stream",
     "text": [
      "2023-07-21 09:53:08.240406: I tensorflow/core/platform/cpu_feature_guard.cc:182] This TensorFlow binary is optimized to use available CPU instructions in performance-critical operations.\n",
      "To enable the following instructions: AVX2 FMA, in other operations, rebuild TensorFlow with the appropriate compiler flags.\n",
      "2023-07-21 09:53:08.704117: W tensorflow/compiler/tf2tensorrt/utils/py_utils.cc:38] TF-TRT Warning: Could not find TensorRT\n"
     ]
    }
   ],
   "source": [
    "import os\n",
    "from os import listdir\n",
    "import glob,progressbar,cv2\n",
    "import tensorflow as tf\n",
    "import numpy as np\n",
    "from PIL import Image"
   ]
  },
  {
   "cell_type": "code",
   "execution_count": 2,
   "id": "2947bc18-4549-4f22-a638-ceb1fa05b02f",
   "metadata": {},
   "outputs": [],
   "source": [
    "def normalize(input_images):\n",
    "    hsv_image=tf.image.rgb_to_hsv(input_images)\n",
    "    h,s,v=tf.split(hsv_image,num_or_size_splits=3,axis=-1)\n",
    "    normalized_s=tf.image.per_image_standardization(s)\n",
    "    # Concatenate the channels back together\n",
    "    normalized_hsv_image = tf.concat([h, normalized_s, v], axis=-1)\n",
    "\n",
    "    # Convert the image back to RGB color space\n",
    "    normalized_images = tf.image.hsv_to_rgb(normalized_hsv_image)\n",
    "    return normalized_images\n"
   ]
  },
  {
   "cell_type": "code",
   "execution_count": 3,
   "id": "4c2b4860-e3b3-42d4-a7ec-bc39769d96c2",
   "metadata": {
    "tags": []
   },
   "outputs": [
    {
     "name": "stderr",
     "output_type": "stream",
     "text": [
      "  0% (0 of 2273) |                       | Elapsed Time: 0:00:00 ETA:  --:--:--"
     ]
    },
    {
     "name": "stdout",
     "output_type": "stream",
     "text": [
      "/home/neureol/FD\n",
      "path_to_img inp: /home/neureol/FD/clean_images/1\n",
      "fire_class: 1\n"
     ]
    },
    {
     "name": "stderr",
     "output_type": "stream",
     "text": [
      " 18% (430 of 2273) |###                  | Elapsed Time: 0:00:02 ETA:   0:00:08libpng warning: iCCP: known incorrect sRGB profile\n",
      " 29% (662 of 2273) |######               | Elapsed Time: 0:00:04 ETA:   0:00:10libpng warning: iCCP: known incorrect sRGB profile\n",
      " 47% (1087 of 2273) |#########           | Elapsed Time: 0:00:07 ETA:   0:00:07Corrupt JPEG data: 1 extraneous bytes before marker 0xd9\n",
      " 97% (2216 of 2273) |################### | Elapsed Time: 0:00:21 ETA:   0:00:01Corrupt JPEG data: 1 extraneous bytes before marker 0xd9\n",
      "100% (2273 of 2273) |####################| Elapsed Time: 0:00:22 Time:  0:00:22\n",
      "2023-07-21 09:53:32.013199: I tensorflow/compiler/xla/stream_executor/cuda/cuda_gpu_executor.cc:996] successful NUMA node read from SysFS had negative value (-1), but there must be at least one NUMA node, so returning NUMA node zero. See more at https://github.com/torvalds/linux/blob/v6.0/Documentation/ABI/testing/sysfs-bus-pci#L344-L355\n",
      "2023-07-21 09:53:32.028785: I tensorflow/compiler/xla/stream_executor/cuda/cuda_gpu_executor.cc:996] successful NUMA node read from SysFS had negative value (-1), but there must be at least one NUMA node, so returning NUMA node zero. See more at https://github.com/torvalds/linux/blob/v6.0/Documentation/ABI/testing/sysfs-bus-pci#L344-L355\n",
      "2023-07-21 09:53:32.028961: I tensorflow/compiler/xla/stream_executor/cuda/cuda_gpu_executor.cc:996] successful NUMA node read from SysFS had negative value (-1), but there must be at least one NUMA node, so returning NUMA node zero. See more at https://github.com/torvalds/linux/blob/v6.0/Documentation/ABI/testing/sysfs-bus-pci#L344-L355\n",
      "2023-07-21 09:53:32.029656: I tensorflow/compiler/xla/stream_executor/cuda/cuda_gpu_executor.cc:996] successful NUMA node read from SysFS had negative value (-1), but there must be at least one NUMA node, so returning NUMA node zero. See more at https://github.com/torvalds/linux/blob/v6.0/Documentation/ABI/testing/sysfs-bus-pci#L344-L355\n",
      "2023-07-21 09:53:32.029830: I tensorflow/compiler/xla/stream_executor/cuda/cuda_gpu_executor.cc:996] successful NUMA node read from SysFS had negative value (-1), but there must be at least one NUMA node, so returning NUMA node zero. See more at https://github.com/torvalds/linux/blob/v6.0/Documentation/ABI/testing/sysfs-bus-pci#L344-L355\n",
      "2023-07-21 09:53:32.029925: I tensorflow/compiler/xla/stream_executor/cuda/cuda_gpu_executor.cc:996] successful NUMA node read from SysFS had negative value (-1), but there must be at least one NUMA node, so returning NUMA node zero. See more at https://github.com/torvalds/linux/blob/v6.0/Documentation/ABI/testing/sysfs-bus-pci#L344-L355\n",
      "2023-07-21 09:53:32.173684: I tensorflow/compiler/xla/stream_executor/cuda/cuda_gpu_executor.cc:996] successful NUMA node read from SysFS had negative value (-1), but there must be at least one NUMA node, so returning NUMA node zero. See more at https://github.com/torvalds/linux/blob/v6.0/Documentation/ABI/testing/sysfs-bus-pci#L344-L355\n",
      "2023-07-21 09:53:32.173824: I tensorflow/compiler/xla/stream_executor/cuda/cuda_gpu_executor.cc:996] successful NUMA node read from SysFS had negative value (-1), but there must be at least one NUMA node, so returning NUMA node zero. See more at https://github.com/torvalds/linux/blob/v6.0/Documentation/ABI/testing/sysfs-bus-pci#L344-L355\n",
      "2023-07-21 09:53:32.173921: I tensorflow/compiler/xla/stream_executor/cuda/cuda_gpu_executor.cc:996] successful NUMA node read from SysFS had negative value (-1), but there must be at least one NUMA node, so returning NUMA node zero. See more at https://github.com/torvalds/linux/blob/v6.0/Documentation/ABI/testing/sysfs-bus-pci#L344-L355\n",
      "2023-07-21 09:53:32.173999: I tensorflow/core/common_runtime/gpu/gpu_device.cc:1635] Created device /job:localhost/replica:0/task:0/device:GPU:0 with 5097 MB memory:  -> device: 0, name: NVIDIA GeForce RTX 2060 SUPER, pci bus id: 0000:01:00.0, compute capability: 7.5\n",
      "2023-07-21 09:53:43.192412: W tensorflow/tsl/framework/bfc_allocator.cc:485] Allocator (GPU_0_bfc) ran out of memory trying to allocate 1.27GiB (rounded to 1368600576)requested by op ConcatV2\n",
      "If the cause is memory fragmentation maybe the environment variable 'TF_GPU_ALLOCATOR=cuda_malloc_async' will improve the situation. \n",
      "Current allocation summary follows.\n",
      "Current allocation summary follows.\n",
      "2023-07-21 09:53:43.192428: I tensorflow/tsl/framework/bfc_allocator.cc:1039] BFCAllocator dump for GPU_0_bfc\n",
      "2023-07-21 09:53:43.192433: I tensorflow/tsl/framework/bfc_allocator.cc:1046] Bin (256): \tTotal Chunks: 0, Chunks in use: 0. 0B allocated for chunks. 0B in use in bin. 0B client-requested in use in bin.\n",
      "2023-07-21 09:53:43.192436: I tensorflow/tsl/framework/bfc_allocator.cc:1046] Bin (512): \tTotal Chunks: 0, Chunks in use: 0. 0B allocated for chunks. 0B in use in bin. 0B client-requested in use in bin.\n",
      "2023-07-21 09:53:43.192440: I tensorflow/tsl/framework/bfc_allocator.cc:1046] Bin (1024): \tTotal Chunks: 1, Chunks in use: 1. 1.2KiB allocated for chunks. 1.2KiB in use in bin. 1.0KiB client-requested in use in bin.\n",
      "2023-07-21 09:53:43.192444: I tensorflow/tsl/framework/bfc_allocator.cc:1046] Bin (2048): \tTotal Chunks: 0, Chunks in use: 0. 0B allocated for chunks. 0B in use in bin. 0B client-requested in use in bin.\n",
      "2023-07-21 09:53:43.192447: I tensorflow/tsl/framework/bfc_allocator.cc:1046] Bin (4096): \tTotal Chunks: 0, Chunks in use: 0. 0B allocated for chunks. 0B in use in bin. 0B client-requested in use in bin.\n",
      "2023-07-21 09:53:43.192450: I tensorflow/tsl/framework/bfc_allocator.cc:1046] Bin (8192): \tTotal Chunks: 0, Chunks in use: 0. 0B allocated for chunks. 0B in use in bin. 0B client-requested in use in bin.\n",
      "2023-07-21 09:53:43.192453: I tensorflow/tsl/framework/bfc_allocator.cc:1046] Bin (16384): \tTotal Chunks: 0, Chunks in use: 0. 0B allocated for chunks. 0B in use in bin. 0B client-requested in use in bin.\n",
      "2023-07-21 09:53:43.192456: I tensorflow/tsl/framework/bfc_allocator.cc:1046] Bin (32768): \tTotal Chunks: 0, Chunks in use: 0. 0B allocated for chunks. 0B in use in bin. 0B client-requested in use in bin.\n",
      "2023-07-21 09:53:43.192459: I tensorflow/tsl/framework/bfc_allocator.cc:1046] Bin (65536): \tTotal Chunks: 0, Chunks in use: 0. 0B allocated for chunks. 0B in use in bin. 0B client-requested in use in bin.\n",
      "2023-07-21 09:53:43.192462: I tensorflow/tsl/framework/bfc_allocator.cc:1046] Bin (131072): \tTotal Chunks: 0, Chunks in use: 0. 0B allocated for chunks. 0B in use in bin. 0B client-requested in use in bin.\n",
      "2023-07-21 09:53:43.192465: I tensorflow/tsl/framework/bfc_allocator.cc:1046] Bin (262144): \tTotal Chunks: 0, Chunks in use: 0. 0B allocated for chunks. 0B in use in bin. 0B client-requested in use in bin.\n",
      "2023-07-21 09:53:43.192468: I tensorflow/tsl/framework/bfc_allocator.cc:1046] Bin (524288): \tTotal Chunks: 0, Chunks in use: 0. 0B allocated for chunks. 0B in use in bin. 0B client-requested in use in bin.\n",
      "2023-07-21 09:53:43.192471: I tensorflow/tsl/framework/bfc_allocator.cc:1046] Bin (1048576): \tTotal Chunks: 0, Chunks in use: 0. 0B allocated for chunks. 0B in use in bin. 0B client-requested in use in bin.\n",
      "2023-07-21 09:53:43.192474: I tensorflow/tsl/framework/bfc_allocator.cc:1046] Bin (2097152): \tTotal Chunks: 0, Chunks in use: 0. 0B allocated for chunks. 0B in use in bin. 0B client-requested in use in bin.\n",
      "2023-07-21 09:53:43.192476: I tensorflow/tsl/framework/bfc_allocator.cc:1046] Bin (4194304): \tTotal Chunks: 0, Chunks in use: 0. 0B allocated for chunks. 0B in use in bin. 0B client-requested in use in bin.\n",
      "2023-07-21 09:53:43.192479: I tensorflow/tsl/framework/bfc_allocator.cc:1046] Bin (8388608): \tTotal Chunks: 0, Chunks in use: 0. 0B allocated for chunks. 0B in use in bin. 0B client-requested in use in bin.\n",
      "2023-07-21 09:53:43.192482: I tensorflow/tsl/framework/bfc_allocator.cc:1046] Bin (16777216): \tTotal Chunks: 0, Chunks in use: 0. 0B allocated for chunks. 0B in use in bin. 0B client-requested in use in bin.\n",
      "2023-07-21 09:53:43.192485: I tensorflow/tsl/framework/bfc_allocator.cc:1046] Bin (33554432): \tTotal Chunks: 0, Chunks in use: 0. 0B allocated for chunks. 0B in use in bin. 0B client-requested in use in bin.\n",
      "2023-07-21 09:53:43.192489: I tensorflow/tsl/framework/bfc_allocator.cc:1046] Bin (67108864): \tTotal Chunks: 0, Chunks in use: 0. 0B allocated for chunks. 0B in use in bin. 0B client-requested in use in bin.\n",
      "2023-07-21 09:53:43.192493: I tensorflow/tsl/framework/bfc_allocator.cc:1046] Bin (134217728): \tTotal Chunks: 0, Chunks in use: 0. 0B allocated for chunks. 0B in use in bin. 0B client-requested in use in bin.\n",
      "2023-07-21 09:53:43.192496: I tensorflow/tsl/framework/bfc_allocator.cc:1046] Bin (268435456): \tTotal Chunks: 8, Chunks in use: 5. 4.98GiB allocated for chunks. 2.97GiB in use in bin. 2.97GiB client-requested in use in bin.\n",
      "2023-07-21 09:53:43.192500: I tensorflow/tsl/framework/bfc_allocator.cc:1062] Bin for 1.27GiB was 256.00MiB, Chunk State: \n",
      "2023-07-21 09:53:43.192522: I tensorflow/tsl/framework/bfc_allocator.cc:1068]   Size: 326.30MiB | Requested Size: 4B | in_use: 0 | bin_num: 20, next:   Size: 1.2KiB | Requested Size: 1.0KiB | in_use: 1 | bin_num: -1\n",
      "2023-07-21 09:53:43.192528: I tensorflow/tsl/framework/bfc_allocator.cc:1068]   Size: 435.07MiB | Requested Size: 435.07MiB | in_use: 0 | bin_num: 20, prev:   Size: 1.27GiB | Requested Size: 1.27GiB | in_use: 1 | bin_num: -1, next:   Size: 435.07MiB | Requested Size: 435.07MiB | in_use: 1 | bin_num: -1\n",
      "2023-07-21 09:53:43.192532: I tensorflow/tsl/framework/bfc_allocator.cc:1068]   Size: 1.26GiB | Requested Size: 0B | in_use: 0 | bin_num: 20, prev:   Size: 435.07MiB | Requested Size: 435.07MiB | in_use: 1 | bin_num: -1\n",
      "2023-07-21 09:53:43.192535: I tensorflow/tsl/framework/bfc_allocator.cc:1075] Next region of size 5344985088\n",
      "2023-07-21 09:53:43.192539: I tensorflow/tsl/framework/bfc_allocator.cc:1095] Free  at 7f95e4000000 of size 342150144 next 1\n",
      "2023-07-21 09:53:43.192542: I tensorflow/tsl/framework/bfc_allocator.cc:1095] InUse at 7f95f864cc00 of size 1280 next 2\n",
      "2023-07-21 09:53:43.192545: I tensorflow/tsl/framework/bfc_allocator.cc:1095] InUse at 7f95f864d100 of size 456200192 next 5\n",
      "2023-07-21 09:53:43.192548: I tensorflow/tsl/framework/bfc_allocator.cc:1095] InUse at 7f961395e100 of size 456200192 next 6\n",
      "2023-07-21 09:53:43.192550: I tensorflow/tsl/framework/bfc_allocator.cc:1095] InUse at 7f962ec6f100 of size 456200192 next 3\n",
      "2023-07-21 09:53:43.192553: I tensorflow/tsl/framework/bfc_allocator.cc:1095] InUse at 7f9649f80100 of size 1368600576 next 4\n",
      "2023-07-21 09:53:43.192556: I tensorflow/tsl/framework/bfc_allocator.cc:1095] Free  at 7f969b8b3100 of size 456200192 next 12\n",
      "2023-07-21 09:53:43.192559: I tensorflow/tsl/framework/bfc_allocator.cc:1095] InUse at 7f96b6bc4100 of size 456200192 next 14\n",
      "2023-07-21 09:53:43.192562: I tensorflow/tsl/framework/bfc_allocator.cc:1095] Free  at 7f96d1ed5100 of size 1353232128 next 18446744073709551615\n",
      "2023-07-21 09:53:43.192564: I tensorflow/tsl/framework/bfc_allocator.cc:1100]      Summary of in-use Chunks by size: \n",
      "2023-07-21 09:53:43.192568: I tensorflow/tsl/framework/bfc_allocator.cc:1103] 1 Chunks of size 1280 totalling 1.2KiB\n",
      "2023-07-21 09:53:43.192571: I tensorflow/tsl/framework/bfc_allocator.cc:1103] 4 Chunks of size 456200192 totalling 1.70GiB\n",
      "2023-07-21 09:53:43.192574: I tensorflow/tsl/framework/bfc_allocator.cc:1103] 1 Chunks of size 1368600576 totalling 1.27GiB\n",
      "2023-07-21 09:53:43.192577: I tensorflow/tsl/framework/bfc_allocator.cc:1107] Sum Total of in-use chunks: 2.97GiB\n",
      "2023-07-21 09:53:43.192580: I tensorflow/tsl/framework/bfc_allocator.cc:1109] Total bytes in pool: 5344985088 memory_limit_: 5344985088 available bytes: 0 curr_region_allocation_bytes_: 10689970176\n",
      "2023-07-21 09:53:43.192585: I tensorflow/tsl/framework/bfc_allocator.cc:1114] Stats: \n",
      "Limit:                      5344985088\n",
      "InUse:                      3193402624\n",
      "MaxInUse:                   3649630976\n",
      "NumAllocs:                          24\n",
      "MaxAllocSize:               1368600576\n",
      "Reserved:                            0\n",
      "PeakReserved:                        0\n",
      "LargestFreeBlock:                    0\n",
      "\n",
      "2023-07-21 09:53:43.192590: W tensorflow/tsl/framework/bfc_allocator.cc:497] ______****************************************************________*********_________________________\n",
      "2023-07-21 09:53:43.192606: W tensorflow/core/framework/op_kernel.cc:1830] OP_REQUIRES failed at concat_op.cc:163 : RESOURCE_EXHAUSTED: OOM when allocating tensor with shape[2273,224,224,3] and type float on /job:localhost/replica:0/task:0/device:GPU:0 by allocator GPU_0_bfc\n"
     ]
    },
    {
     "ename": "ResourceExhaustedError",
     "evalue": "{{function_node __wrapped__ConcatV2_N_3_device_/job:localhost/replica:0/task:0/device:GPU:0}} OOM when allocating tensor with shape[2273,224,224,3] and type float on /job:localhost/replica:0/task:0/device:GPU:0 by allocator GPU_0_bfc [Op:ConcatV2] name: concat",
     "output_type": "error",
     "traceback": [
      "\u001b[0;31m---------------------------------------------------------------------------\u001b[0m",
      "\u001b[0;31mResourceExhaustedError\u001b[0m                    Traceback (most recent call last)",
      "Cell \u001b[0;32mIn[3], line 37\u001b[0m\n\u001b[1;32m     34\u001b[0m fire_directory_path \u001b[38;5;241m=\u001b[39m os\u001b[38;5;241m.\u001b[39mpath\u001b[38;5;241m.\u001b[39mjoin(pwd, \u001b[38;5;124m\"\u001b[39m\u001b[38;5;124mclean_images/1\u001b[39m\u001b[38;5;124m\"\u001b[39m)\n\u001b[1;32m     36\u001b[0m fire_list\u001b[38;5;241m=\u001b[39mload_input_images(fire_directory_path)\n\u001b[0;32m---> 37\u001b[0m normalized_fire_images\u001b[38;5;241m=\u001b[39m\u001b[43mnormalize\u001b[49m\u001b[43m(\u001b[49m\u001b[43mnp\u001b[49m\u001b[38;5;241;43m.\u001b[39;49m\u001b[43marray\u001b[49m\u001b[43m(\u001b[49m\u001b[43mfire_list\u001b[49m\u001b[43m)\u001b[49m\u001b[43m)\u001b[49m\n\u001b[1;32m     38\u001b[0m no_fire_list\u001b[38;5;241m=\u001b[39mload_input_images(no_fire_directory_path)\n\u001b[1;32m     39\u001b[0m normalized_no_fire_images\u001b[38;5;241m=\u001b[39mnormalize(np\u001b[38;5;241m.\u001b[39marray(no_fire_list))\n",
      "Cell \u001b[0;32mIn[2], line 6\u001b[0m, in \u001b[0;36mnormalize\u001b[0;34m(input_images)\u001b[0m\n\u001b[1;32m      4\u001b[0m normalized_s\u001b[38;5;241m=\u001b[39mtf\u001b[38;5;241m.\u001b[39mimage\u001b[38;5;241m.\u001b[39mper_image_standardization(s)\n\u001b[1;32m      5\u001b[0m \u001b[38;5;66;03m# Concatenate the channels back together\u001b[39;00m\n\u001b[0;32m----> 6\u001b[0m normalized_hsv_image \u001b[38;5;241m=\u001b[39m \u001b[43mtf\u001b[49m\u001b[38;5;241;43m.\u001b[39;49m\u001b[43mconcat\u001b[49m\u001b[43m(\u001b[49m\u001b[43m[\u001b[49m\u001b[43mh\u001b[49m\u001b[43m,\u001b[49m\u001b[43m \u001b[49m\u001b[43mnormalized_s\u001b[49m\u001b[43m,\u001b[49m\u001b[43m \u001b[49m\u001b[43mv\u001b[49m\u001b[43m]\u001b[49m\u001b[43m,\u001b[49m\u001b[43m \u001b[49m\u001b[43maxis\u001b[49m\u001b[38;5;241;43m=\u001b[39;49m\u001b[38;5;241;43m-\u001b[39;49m\u001b[38;5;241;43m1\u001b[39;49m\u001b[43m)\u001b[49m\n\u001b[1;32m      8\u001b[0m \u001b[38;5;66;03m# Convert the image back to RGB color space\u001b[39;00m\n\u001b[1;32m      9\u001b[0m normalized_images \u001b[38;5;241m=\u001b[39m tf\u001b[38;5;241m.\u001b[39mimage\u001b[38;5;241m.\u001b[39mhsv_to_rgb(normalized_hsv_image)\n",
      "File \u001b[0;32m~/miniconda3/envs/tf/lib/python3.9/site-packages/tensorflow/python/util/traceback_utils.py:153\u001b[0m, in \u001b[0;36mfilter_traceback.<locals>.error_handler\u001b[0;34m(*args, **kwargs)\u001b[0m\n\u001b[1;32m    151\u001b[0m \u001b[38;5;28;01mexcept\u001b[39;00m \u001b[38;5;167;01mException\u001b[39;00m \u001b[38;5;28;01mas\u001b[39;00m e:\n\u001b[1;32m    152\u001b[0m   filtered_tb \u001b[38;5;241m=\u001b[39m _process_traceback_frames(e\u001b[38;5;241m.\u001b[39m__traceback__)\n\u001b[0;32m--> 153\u001b[0m   \u001b[38;5;28;01mraise\u001b[39;00m e\u001b[38;5;241m.\u001b[39mwith_traceback(filtered_tb) \u001b[38;5;28;01mfrom\u001b[39;00m \u001b[38;5;28;01mNone\u001b[39;00m\n\u001b[1;32m    154\u001b[0m \u001b[38;5;28;01mfinally\u001b[39;00m:\n\u001b[1;32m    155\u001b[0m   \u001b[38;5;28;01mdel\u001b[39;00m filtered_tb\n",
      "File \u001b[0;32m~/miniconda3/envs/tf/lib/python3.9/site-packages/tensorflow/python/framework/ops.py:7262\u001b[0m, in \u001b[0;36mraise_from_not_ok_status\u001b[0;34m(e, name)\u001b[0m\n\u001b[1;32m   7260\u001b[0m \u001b[38;5;28;01mdef\u001b[39;00m \u001b[38;5;21mraise_from_not_ok_status\u001b[39m(e, name):\n\u001b[1;32m   7261\u001b[0m   e\u001b[38;5;241m.\u001b[39mmessage \u001b[38;5;241m+\u001b[39m\u001b[38;5;241m=\u001b[39m (\u001b[38;5;124m\"\u001b[39m\u001b[38;5;124m name: \u001b[39m\u001b[38;5;124m\"\u001b[39m \u001b[38;5;241m+\u001b[39m name \u001b[38;5;28;01mif\u001b[39;00m name \u001b[38;5;129;01mis\u001b[39;00m \u001b[38;5;129;01mnot\u001b[39;00m \u001b[38;5;28;01mNone\u001b[39;00m \u001b[38;5;28;01melse\u001b[39;00m \u001b[38;5;124m\"\u001b[39m\u001b[38;5;124m\"\u001b[39m)\n\u001b[0;32m-> 7262\u001b[0m   \u001b[38;5;28;01mraise\u001b[39;00m core\u001b[38;5;241m.\u001b[39m_status_to_exception(e) \u001b[38;5;28;01mfrom\u001b[39;00m \u001b[38;5;28;01mNone\u001b[39;00m\n",
      "\u001b[0;31mResourceExhaustedError\u001b[0m: {{function_node __wrapped__ConcatV2_N_3_device_/job:localhost/replica:0/task:0/device:GPU:0}} OOM when allocating tensor with shape[2273,224,224,3] and type float on /job:localhost/replica:0/task:0/device:GPU:0 by allocator GPU_0_bfc [Op:ConcatV2] name: concat"
     ]
    }
   ],
   "source": [
    "\n",
    "def load_input_images(path_to_images: str) -> list:\n",
    "    print(f\"path_to_img inp: {path_to_images}\")\n",
    "    fire_class = os.path.basename(path_to_images)\n",
    "    print(f\"fire_class: {fire_class}\")\n",
    "\n",
    "    # Get all the images in the directory\n",
    "    img_paths = []\n",
    "    types = [\"/*.jpg\", \"/*.png\", \"/*.jpeg\"]\n",
    "    for type in types:\n",
    "        img_paths.extend(glob.glob(path_to_images + type))\n",
    "    original_list=[]\n",
    "    with progressbar.ProgressBar(max_value=len(img_paths)) as bar:\n",
    "        for count, img_path in enumerate(img_paths):\n",
    "            try:\n",
    "                # read img\n",
    "                imgRead = cv2.imread(img_path)\n",
    "                # resize img\n",
    "                imgRead = cv2.resize(imgRead, (224, 224))\n",
    "                #imgRead = cv2.cvtColor(imgRead,cv2.COLOR_BGR2RGB)\n",
    "                original_list.append(imgRead)\n",
    "                \n",
    "                bar.update(count)\n",
    "            except Exception or Warning as err:\n",
    "                print(f\"Error in loading images: {err}\")\n",
    "                print(f\"img Path that failed: {img_path}\")\n",
    "                bar.update(count)\n",
    "                continue\n",
    "    return original_list\n",
    "\n",
    "# %%\n",
    "pwd = os.getcwd()\n",
    "print(pwd)\n",
    "no_fire_directory_path = os.path.join(pwd, \"clean_images/0\")\n",
    "fire_directory_path = os.path.join(pwd, \"clean_images/1\")\n",
    "\n",
    "fire_list=load_input_images(fire_directory_path)\n",
    "normalized_fire_images=normalize(np.array(fire_list))\n",
    "no_fire_list=load_input_images(no_fire_directory_path)\n",
    "normalized_no_fire_images=normalize(np.array(no_fire_list))"
   ]
  },
  {
   "cell_type": "code",
   "execution_count": null,
   "id": "ce733bc9-28da-44e1-96ff-118fbebe1a39",
   "metadata": {
    "tags": []
   },
   "outputs": [],
   "source": [
    "\n",
    "for count,img in enumerate(normalized_fire_images):\n",
    "    img_path_to_save = os.path.join(\n",
    "                    os.getcwd(),\n",
    "                    \"preprocessed_clean_images\",\n",
    "                    \"normalized_fire_imgs\",\n",
    "                    \"1\",\n",
    "                    f\"image{count}.jpg\",\n",
    "                )\n",
    "                \n",
    "    cv2.imwrite(img_path_to_save, np.array(img))\n",
    "    "
   ]
  },
  {
   "cell_type": "code",
   "execution_count": null,
   "id": "b235e6b5-2f38-4663-b9a9-17adc399d44c",
   "metadata": {
    "tags": []
   },
   "outputs": [],
   "source": [
    "for count,img in enumerate(normalized_no_fire_images):\n",
    "    img_path_to_save = os.path.join(\n",
    "                    os.getcwd(),\n",
    "                    \"preprocessed_clean_images\",\n",
    "                    \"normalized_fire_imgs\",\n",
    "                    \"0\",\n",
    "                    f\"image{count}.jpg\",\n",
    "                )\n",
    "                \n",
    "    cv2.imwrite(img_path_to_save, np.array(img))\n",
    "    "
   ]
  },
  {
   "cell_type": "code",
   "execution_count": null,
   "id": "0d185244-36ef-49e4-92e0-ff8e04cf58ac",
   "metadata": {},
   "outputs": [],
   "source": []
  }
 ],
 "metadata": {
  "kernelspec": {
   "display_name": "Python 3 (ipykernel)",
   "language": "python",
   "name": "python3"
  },
  "language_info": {
   "codemirror_mode": {
    "name": "ipython",
    "version": 3
   },
   "file_extension": ".py",
   "mimetype": "text/x-python",
   "name": "python",
   "nbconvert_exporter": "python",
   "pygments_lexer": "ipython3",
   "version": "3.9.17"
  }
 },
 "nbformat": 4,
 "nbformat_minor": 5
}
